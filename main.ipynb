{
  "nbformat": 4,
  "nbformat_minor": 0,
  "metadata": {
    "colab": {
      "provenance": [],
      "gpuType": "T4"
    },
    "kernelspec": {
      "name": "python3",
      "display_name": "Python 3"
    },
    "language_info": {
      "name": "python"
    },
    "accelerator": "TPU"
  },
  "cells": [
    {
      "cell_type": "code",
      "source": [
        "import tensorflow as tf\n",
        "import numpy as np\n",
        "import matplotlib.pyplot as plt\n",
        "import cv2\n",
        "import pathlib\n",
        "\n",
        "from tensorflow.keras.preprocessing.image import ImageDataGenerator\n",
        "from keras.optimizers import Adam\n",
        "from sklearn.metrics import classification_report,confusion_matrix"
      ],
      "metadata": {
        "id": "UTiTKREa19-g"
      },
      "execution_count": 1,
      "outputs": []
    },
    {
      "cell_type": "markdown",
      "source": [
        "## Data Preparing"
      ],
      "metadata": {
        "id": "vIzIYS2O1qNg"
      }
    },
    {
      "cell_type": "code",
      "source": [
        "from google.colab import drive\n",
        "drive.mount('/content/drive')"
      ],
      "metadata": {
        "colab": {
          "base_uri": "https://localhost:8080/"
        },
        "id": "gTUMQWeDTrCC",
        "outputId": "81e42839-cef9-4b72-83db-43f4ad9fea6f"
      },
      "execution_count": 2,
      "outputs": [
        {
          "output_type": "stream",
          "name": "stdout",
          "text": [
            "Mounted at /content/drive\n"
          ]
        }
      ]
    },
    {
      "cell_type": "code",
      "execution_count": 7,
      "metadata": {
        "id": "GPTixx_K1T8B"
      },
      "outputs": [],
      "source": [
        "train_dir = '/content/drive/MyDrive/Dataset baru/train 50'\n",
        "val_dir = '/content/drive/MyDrive/Dataset baru/val 50'"
      ]
    },
    {
      "cell_type": "code",
      "source": [
        "preprocess_input = tf.keras.applications.mobilenet_v2.preprocess_input"
      ],
      "metadata": {
        "id": "JA2AOicSxZw4"
      },
      "execution_count": 8,
      "outputs": []
    },
    {
      "cell_type": "code",
      "source": [
        "train_datagen = ImageDataGenerator(\n",
        "  preprocessing_function=preprocess_input,\n",
        "  #rescale = 1/255,\n",
        "  rotation_range=30,\n",
        "  brightness_range=[0.5,1.5],\n",
        "  zoom_range=0.2,\n",
        "  horizontal_flip=True,\n",
        "  vertical_flip=True,\n",
        "  width_shift_range=0.2,\n",
        "  height_shift_range=0.2, \n",
        ")\n",
        "\n",
        "val_datagen = ImageDataGenerator(preprocessing_function=preprocess_input, \n",
        "                                 #rescale = 1.0/255.\n",
        "                                 )"
      ],
      "metadata": {
        "id": "H5jNIVpN2_cW"
      },
      "execution_count": 9,
      "outputs": []
    },
    {
      "cell_type": "code",
      "source": [
        "train_generator = train_datagen.flow_from_directory(\n",
        "    train_dir,\n",
        "    target_size=(128,128),\n",
        "    batch_size=32,\n",
        "    class_mode='categorical',\n",
        ")\n",
        "val_generator = val_datagen.flow_from_directory(\n",
        "    val_dir,\n",
        "    target_size=(128,128),\n",
        "    batch_size=32,\n",
        "    class_mode='categorical',\n",
        "    shuffle=False\n",
        ")"
      ],
      "metadata": {
        "colab": {
          "base_uri": "https://localhost:8080/"
        },
        "id": "GZE0baVr01he",
        "outputId": "86a2b123-2905-4e89-87ef-25988a5ac140"
      },
      "execution_count": 10,
      "outputs": [
        {
          "output_type": "stream",
          "name": "stdout",
          "text": [
            "Found 18588 images belonging to 50 classes.\n",
            "Found 4764 images belonging to 50 classes.\n"
          ]
        }
      ]
    },
    {
      "cell_type": "markdown",
      "source": [
        "## Model Building"
      ],
      "metadata": {
        "id": "erl_wJ0Y09CP"
      }
    },
    {
      "cell_type": "code",
      "source": [
        "base_model = tf.keras.applications.MobileNetV2(input_shape = (128, 128, 3), include_top = False, weights = \"imagenet\")\n",
        "base_model.trainable = False"
      ],
      "metadata": {
        "id": "HVpmnHmK1A0d",
        "colab": {
          "base_uri": "https://localhost:8080/"
        },
        "outputId": "5a115e3a-98b9-4a8c-ba7f-cc3f9f344b8e"
      },
      "execution_count": 11,
      "outputs": [
        {
          "output_type": "stream",
          "name": "stdout",
          "text": [
            "Downloading data from https://storage.googleapis.com/tensorflow/keras-applications/mobilenet_v2/mobilenet_v2_weights_tf_dim_ordering_tf_kernels_1.0_128_no_top.h5\n",
            "9406464/9406464 [==============================] - 0s 0us/step\n"
          ]
        }
      ]
    },
    {
      "cell_type": "code",
      "source": [
        "model = tf.keras.Sequential([base_model,\n",
        "                             tf.keras.layers.Flatten(),\n",
        "                             tf.keras.layers.Dropout(0.4),\n",
        "                             tf.keras.layers.Dense(512, activation='relu'),\n",
        "                             tf.keras.layers.Dense(50, activation=\"softmax\")                                     \n",
        "                                ])\n",
        "model.summary()"
      ],
      "metadata": {
        "colab": {
          "base_uri": "https://localhost:8080/"
        },
        "id": "z8ckdxRB1JD9",
        "outputId": "36bb2b55-5f6b-4c90-eec4-ee7f97937a3d"
      },
      "execution_count": 12,
      "outputs": [
        {
          "output_type": "stream",
          "name": "stdout",
          "text": [
            "Model: \"sequential\"\n",
            "_________________________________________________________________\n",
            " Layer (type)                Output Shape              Param #   \n",
            "=================================================================\n",
            " mobilenetv2_1.00_128 (Funct  (None, 4, 4, 1280)       2257984   \n",
            " ional)                                                          \n",
            "                                                                 \n",
            " flatten (Flatten)           (None, 20480)             0         \n",
            "                                                                 \n",
            " dropout (Dropout)           (None, 20480)             0         \n",
            "                                                                 \n",
            " dense (Dense)               (None, 512)               10486272  \n",
            "                                                                 \n",
            " dense_1 (Dense)             (None, 50)                25650     \n",
            "                                                                 \n",
            "=================================================================\n",
            "Total params: 12,769,906\n",
            "Trainable params: 10,511,922\n",
            "Non-trainable params: 2,257,984\n",
            "_________________________________________________________________\n"
          ]
        }
      ]
    },
    {
      "cell_type": "code",
      "source": [
        "from keras.optimizers import Adam\n",
        "opt = Adam(learning_rate=0.0001)\n",
        "model.compile(\n",
        "    optimizer=opt,\n",
        "    loss='categorical_crossentropy',\n",
        "    metrics=['accuracy']\n",
        ")\n",
        "\n",
        "result = model.fit(train_generator, steps_per_epoch=train_generator.samples//32, epochs = 32, verbose=1, validation_data=val_generator, validation_steps=val_generator.samples//32)"
      ],
      "metadata": {
        "colab": {
          "base_uri": "https://localhost:8080/"
        },
        "id": "t6tgIEe01Q9A",
        "outputId": "ec1a8ea0-67c9-4b5c-84b6-bfe6127bdb13"
      },
      "execution_count": 14,
      "outputs": [
        {
          "output_type": "stream",
          "name": "stdout",
          "text": [
            "Epoch 1/32\n",
            "580/580 [==============================] - 4492s 8s/step - loss: 1.5373 - accuracy: 0.5939 - val_loss: 0.6737 - val_accuracy: 0.7914\n",
            "Epoch 2/32\n",
            "580/580 [==============================] - 620s 1s/step - loss: 0.8969 - accuracy: 0.7407 - val_loss: 0.5884 - val_accuracy: 0.8228\n",
            "Epoch 3/32\n",
            "580/580 [==============================] - 549s 945ms/step - loss: 0.7719 - accuracy: 0.7747 - val_loss: 0.5730 - val_accuracy: 0.8309\n",
            "Epoch 4/32\n",
            "580/580 [==============================] - 612s 1s/step - loss: 0.6830 - accuracy: 0.7968 - val_loss: 0.5009 - val_accuracy: 0.8499\n",
            "Epoch 5/32\n",
            "580/580 [==============================] - 536s 924ms/step - loss: 0.6285 - accuracy: 0.8127 - val_loss: 0.5296 - val_accuracy: 0.8444\n",
            "Epoch 6/32\n",
            "580/580 [==============================] - 536s 924ms/step - loss: 0.5835 - accuracy: 0.8249 - val_loss: 0.4801 - val_accuracy: 0.8568\n",
            "Epoch 7/32\n",
            "580/580 [==============================] - 532s 918ms/step - loss: 0.5351 - accuracy: 0.8346 - val_loss: 0.4769 - val_accuracy: 0.8596\n",
            "Epoch 8/32\n",
            "580/580 [==============================] - 535s 920ms/step - loss: 0.5120 - accuracy: 0.8450 - val_loss: 0.4808 - val_accuracy: 0.8594\n",
            "Epoch 9/32\n",
            "580/580 [==============================] - 595s 1s/step - loss: 0.4886 - accuracy: 0.8514 - val_loss: 0.4776 - val_accuracy: 0.8606\n",
            "Epoch 10/32\n",
            "580/580 [==============================] - 609s 1s/step - loss: 0.4557 - accuracy: 0.8578 - val_loss: 0.4758 - val_accuracy: 0.8606\n",
            "Epoch 11/32\n",
            "580/580 [==============================] - 602s 1s/step - loss: 0.4534 - accuracy: 0.8608 - val_loss: 0.4694 - val_accuracy: 0.8621\n",
            "Epoch 12/32\n",
            "580/580 [==============================] - 598s 1s/step - loss: 0.4314 - accuracy: 0.8653 - val_loss: 0.4539 - val_accuracy: 0.8685\n",
            "Epoch 13/32\n",
            "580/580 [==============================] - 597s 1s/step - loss: 0.4154 - accuracy: 0.8706 - val_loss: 0.4710 - val_accuracy: 0.8682\n",
            "Epoch 14/32\n",
            "580/580 [==============================] - 547s 944ms/step - loss: 0.3988 - accuracy: 0.8766 - val_loss: 0.4847 - val_accuracy: 0.8609\n",
            "Epoch 15/32\n",
            "580/580 [==============================] - 539s 929ms/step - loss: 0.3882 - accuracy: 0.8772 - val_loss: 0.4603 - val_accuracy: 0.8712\n",
            "Epoch 16/32\n",
            "580/580 [==============================] - 596s 1s/step - loss: 0.3771 - accuracy: 0.8809 - val_loss: 0.4529 - val_accuracy: 0.8723\n",
            "Epoch 17/32\n",
            "580/580 [==============================] - 538s 927ms/step - loss: 0.3546 - accuracy: 0.8896 - val_loss: 0.4376 - val_accuracy: 0.8773\n",
            "Epoch 18/32\n",
            "580/580 [==============================] - 592s 1s/step - loss: 0.3542 - accuracy: 0.8887 - val_loss: 0.4688 - val_accuracy: 0.8691\n",
            "Epoch 19/32\n",
            "580/580 [==============================] - 536s 924ms/step - loss: 0.3424 - accuracy: 0.8929 - val_loss: 0.4579 - val_accuracy: 0.8712\n",
            "Epoch 20/32\n",
            "580/580 [==============================] - 537s 926ms/step - loss: 0.3184 - accuracy: 0.8978 - val_loss: 0.4772 - val_accuracy: 0.8748\n",
            "Epoch 21/32\n",
            "580/580 [==============================] - 597s 1s/step - loss: 0.3288 - accuracy: 0.8933 - val_loss: 0.4831 - val_accuracy: 0.8699\n",
            "Epoch 22/32\n",
            "580/580 [==============================] - 597s 1s/step - loss: 0.3085 - accuracy: 0.9020 - val_loss: 0.4684 - val_accuracy: 0.8752\n",
            "Epoch 23/32\n",
            "580/580 [==============================] - 538s 928ms/step - loss: 0.3045 - accuracy: 0.9020 - val_loss: 0.4503 - val_accuracy: 0.8786\n",
            "Epoch 24/32\n",
            "580/580 [==============================] - 596s 1s/step - loss: 0.3067 - accuracy: 0.9035 - val_loss: 0.4525 - val_accuracy: 0.8788\n",
            "Epoch 25/32\n",
            "580/580 [==============================] - 537s 927ms/step - loss: 0.2893 - accuracy: 0.9087 - val_loss: 0.4569 - val_accuracy: 0.8815\n",
            "Epoch 26/32\n",
            "580/580 [==============================] - 593s 1s/step - loss: 0.2859 - accuracy: 0.9094 - val_loss: 0.4709 - val_accuracy: 0.8792\n",
            "Epoch 27/32\n",
            "580/580 [==============================] - 599s 1s/step - loss: 0.2964 - accuracy: 0.9054 - val_loss: 0.4827 - val_accuracy: 0.8752\n",
            "Epoch 28/32\n",
            "580/580 [==============================] - 601s 1s/step - loss: 0.2742 - accuracy: 0.9139 - val_loss: 0.4601 - val_accuracy: 0.8792\n",
            "Epoch 29/32\n",
            "580/580 [==============================] - 535s 923ms/step - loss: 0.2702 - accuracy: 0.9145 - val_loss: 0.4751 - val_accuracy: 0.8792\n",
            "Epoch 30/32\n",
            "580/580 [==============================] - 539s 928ms/step - loss: 0.2648 - accuracy: 0.9131 - val_loss: 0.4762 - val_accuracy: 0.8805\n",
            "Epoch 31/32\n",
            "580/580 [==============================] - 597s 1s/step - loss: 0.2562 - accuracy: 0.9170 - val_loss: 0.4433 - val_accuracy: 0.8866\n",
            "Epoch 32/32\n",
            "580/580 [==============================] - 603s 1s/step - loss: 0.2575 - accuracy: 0.9189 - val_loss: 0.4653 - val_accuracy: 0.8820\n"
          ]
        }
      ]
    },
    {
      "cell_type": "markdown",
      "source": [
        "val accuracy > train accuracy: https://stackoverflow.com/questions/43979449/higher-validation-accuracy-than-training-accurracy-using-tensorflow-and-keras"
      ],
      "metadata": {
        "id": "DjXwQv9vrhCN"
      }
    },
    {
      "cell_type": "code",
      "source": [
        "loss = result.history['accuracy']\n",
        "val_loss = result.history['val_accuracy']\n",
        "epochs = range(1,len(loss)+1)\n",
        "\n",
        "import matplotlib.pyplot as plt\n",
        "plt.plot(epochs,loss,'y',label='Training Accuracy')\n",
        "plt.plot(epochs,val_loss,'r',label='Validation Accuracy')\n",
        "plt.title('Training and Validation Accuracy')\n",
        "plt.xlabel('epoch')\n",
        "plt.ylabel('accuracy')\n",
        "plt.legend()\n",
        "plt.show()"
      ],
      "metadata": {
        "colab": {
          "base_uri": "https://localhost:8080/",
          "height": 472
        },
        "id": "Md13OHRZ1XRy",
        "outputId": "13fc55e0-70ae-4511-be6c-5654ebc108bc"
      },
      "execution_count": 15,
      "outputs": [
        {
          "output_type": "display_data",
          "data": {
            "text/plain": [
              "<Figure size 640x480 with 1 Axes>"
            ],
            "image/png": "[encoded data removed]"
          },
          "metadata": {}
        }
      ]
    },
    {
      "cell_type": "markdown",
      "source": [
        "## Model Evaluation"
      ],
      "metadata": {
        "id": "LDGON2qvm7de"
      }
    },
    {
      "cell_type": "code",
      "source": [
        "x=np.concatenate([val_generator.next()[0] for i in range(val_generator.__len__())])\n",
        "y=np.concatenate([val_generator.next()[1] for i in range(val_generator.__len__())])\n",
        "print(x.shape)\n",
        "print(y.shape)"
      ],
      "metadata": {
        "colab": {
          "base_uri": "https://localhost:8080/"
        },
        "id": "P7UR8RlNWt1J",
        "outputId": "8e74befb-6f8a-426b-919d-039abdeb351d"
      },
      "execution_count": 16,
      "outputs": [
        {
          "output_type": "stream",
          "name": "stdout",
          "text": [
            "(4764, 128, 128, 3)\n",
            "(4764, 50)\n"
          ]
        }
      ]
    },
    {
      "cell_type": "code",
      "source": [
        "predict_x=model.predict(x,batch_size=32) \n",
        "classes_x=np.argmax(predict_x,axis=1)\n",
        "y=np.argmax(y,axis=1)"
      ],
      "metadata": {
        "colab": {
          "base_uri": "https://localhost:8080/"
        },
        "id": "2aYTuJVyW2IF",
        "outputId": "e86b7d1d-2eea-4b80-dcfb-a5dd5c9d15a4"
      },
      "execution_count": 17,
      "outputs": [
        {
          "output_type": "stream",
          "name": "stdout",
          "text": [
            "149/149 [==============================] - 66s 436ms/step\n"
          ]
        }
      ]
    },
    {
      "cell_type": "code",
      "source": [
        "print(classification_report(y,classes_x))"
      ],
      "metadata": {
        "colab": {
          "base_uri": "https://localhost:8080/"
        },
        "id": "zwUQ79aoW_A3",
        "outputId": "5a49bd2a-a2d1-4810-b95b-c044620813de"
      },
      "execution_count": 18,
      "outputs": [
        {
          "output_type": "stream",
          "name": "stdout",
          "text": [
            "              precision    recall  f1-score   support\n",
            "\n",
            "           0       0.83      0.85      0.84       100\n",
            "           1       0.90      0.83      0.86       100\n",
            "           2       0.70      0.84      0.76       100\n",
            "           3       0.93      0.96      0.95       101\n",
            "           4       0.88      0.82      0.85       100\n",
            "           5       0.96      0.94      0.95       100\n",
            "           6       0.95      0.95      0.95       101\n",
            "           7       0.90      0.96      0.93       102\n",
            "           8       0.92      0.86      0.89       100\n",
            "           9       0.95      0.80      0.87       100\n",
            "          10       0.72      0.97      0.83       100\n",
            "          11       0.87      0.81      0.84       100\n",
            "          12       0.90      0.95      0.92       100\n",
            "          13       0.88      0.86      0.87       100\n",
            "          14       0.91      0.91      0.91        68\n",
            "          15       0.86      0.88      0.87       100\n",
            "          16       0.97      0.99      0.98       100\n",
            "          17       0.71      0.90      0.79       102\n",
            "          18       0.86      0.95      0.90       100\n",
            "          19       1.00      0.71      0.83         7\n",
            "          20       0.75      0.97      0.85        40\n",
            "          21       0.86      0.94      0.90        51\n",
            "          22       0.95      0.96      0.96       100\n",
            "          23       0.88      0.72      0.79       100\n",
            "          24       0.93      0.98      0.96       100\n",
            "          25       0.73      0.57      0.64       100\n",
            "          26       0.97      0.94      0.95       100\n",
            "          27       0.92      0.73      0.82       100\n",
            "          28       0.96      0.82      0.89       100\n",
            "          29       0.77      0.96      0.85       100\n",
            "          30       0.97      0.95      0.96       102\n",
            "          31       0.96      0.65      0.77       100\n",
            "          32       0.94      0.77      0.85       100\n",
            "          33       0.79      0.89      0.84       100\n",
            "          34       0.76      0.74      0.75       100\n",
            "          35       0.92      0.92      0.92       100\n",
            "          36       0.91      0.96      0.93       102\n",
            "          37       0.99      0.97      0.98       100\n",
            "          38       0.93      1.00      0.97       100\n",
            "          39       0.92      0.96      0.94       100\n",
            "          40       0.84      0.79      0.82        95\n",
            "          41       0.87      0.97      0.92       100\n",
            "          42       0.78      0.91      0.84       102\n",
            "          43       0.92      0.98      0.95        86\n",
            "          44       0.93      0.97      0.95       102\n",
            "          45       0.98      0.82      0.89       101\n",
            "          46       0.88      0.90      0.89       100\n",
            "          47       0.89      0.81      0.85       100\n",
            "          48       0.92      0.92      0.92       102\n",
            "          49       0.99      0.82      0.90       100\n",
            "\n",
            "    accuracy                           0.88      4764\n",
            "   macro avg       0.89      0.88      0.88      4764\n",
            "weighted avg       0.89      0.88      0.88      4764\n",
            "\n"
          ]
        }
      ]
    },
    {
      "cell_type": "code",
      "source": [
        "from sklearn.metrics import accuracy_score, precision_score"
      ],
      "metadata": {
        "id": "Mrd2i46ACEOq"
      },
      "execution_count": 19,
      "outputs": []
    },
    {
      "cell_type": "code",
      "source": [
        "print(accuracy_score(y, classes_x))\n",
        "print(precision_score(y, classes_x, average='weighted')) #average='macro doesn't take label imbalance into account"
      ],
      "metadata": {
        "colab": {
          "base_uri": "https://localhost:8080/"
        },
        "id": "woaAahTuCLao",
        "outputId": "2e41b455-2600-429f-feb6-7a0f035d912a"
      },
      "execution_count": 20,
      "outputs": [
        {
          "output_type": "stream",
          "name": "stdout",
          "text": [
            "0.8822418136020151\n",
            "0.8880811092985346\n"
          ]
        }
      ]
    },
    {
      "cell_type": "code",
      "source": [
        "class_name = train_generator.class_indices\n",
        "class_name = list(dict.keys(class_name))\n",
        "#print(class_name)"
      ],
      "metadata": {
        "id": "GZWC6FKkM_86"
      },
      "execution_count": 21,
      "outputs": []
    },
    {
      "cell_type": "code",
      "source": [
        "#class_name = [name for name in os.listdir(train_dir)]\n",
        "#class_name"
      ],
      "metadata": {
        "id": "z6vpLh3HvjNV"
      },
      "execution_count": null,
      "outputs": []
    },
    {
      "cell_type": "code",
      "source": [
        "from google.colab import files\n",
        "from tensorflow.keras.utils import load_img, img_to_array\n",
        "\n",
        "uploaded = files.upload()\n",
        "\n",
        "for fn in uploaded.keys():\n",
        " \n",
        "  # predicting images\n",
        "  path = fn\n",
        "  img = load_img(path, target_size=(128, 128))\n",
        "  x = img_to_array(img)\n",
        "  x = preprocess_input(x)\n",
        "  x = np.expand_dims(x, axis=0)\n",
        "\n",
        "  images = np.vstack([x])\n",
        "  prediction = model.predict(images, batch_size=10)\n",
        "  class_prediction = np.argmax(prediction, axis=1)[0]\n",
        "  print(fn, \"is predicted as\", class_name[class_prediction])"
      ],
      "metadata": {
        "id": "guM1kCJLHFl9",
        "colab": {
          "base_uri": "https://localhost:8080/",
          "height": 265
        },
        "outputId": "fdd0bce0-4f6d-4291-98cc-d02211c2b33b"
      },
      "execution_count": 26,
      "outputs": [
        {
          "output_type": "display_data",
          "data": {
            "text/plain": [
              "<IPython.core.display.HTML object>"
            ],
            "text/html": [
              "\n",
              "     <input type=\"file\" id=\"files-de766d52-3438-4fe3-b710-ff05dd405774\" name=\"files[]\" multiple disabled\n",
              "        style=\"border:none\" />\n",
              "     <output id=\"result-de766d52-3438-4fe3-b710-ff05dd405774\">\n",
              "      Upload widget is only available when the cell has been executed in the\n",
              "      current browser session. Please rerun this cell to enable.\n",
              "      </output>\n",
              "      <script>// Copyright 2017 Google LLC\n",
              "//\n",
              "// Licensed under the Apache License, Version 2.0 (the \"License\");\n",
              "// you may not use this file except in compliance with the License.\n",
              "// You may obtain a copy of the License at\n",
              "//\n",
              "//      http://www.apache.org/licenses/LICENSE-2.0\n",
              "//\n",
              "// Unless required by applicable law or agreed to in writing, software\n",
              "// distributed under the License is distributed on an \"AS IS\" BASIS,\n",
              "// WITHOUT WARRANTIES OR CONDITIONS OF ANY KIND, either express or implied.\n",
              "// See the License for the specific language governing permissions and\n",
              "// limitations under the License.\n",
              "\n",
              "/**\n",
              " * @fileoverview Helpers for google.colab Python module.\n",
              " */\n",
              "(function(scope) {\n",
              "function span(text, styleAttributes = {}) {\n",
              "  const element = document.createElement('span');\n",
              "  element.textContent = text;\n",
              "  for (const key of Object.keys(styleAttributes)) {\n",
              "    element.style[key] = styleAttributes[key];\n",
              "  }\n",
              "  return element;\n",
              "}\n",
              "\n",
              "// Max number of bytes which will be uploaded at a time.\n",
              "const MAX_PAYLOAD_SIZE = 100 * 1024;\n",
              "\n",
              "function _uploadFiles(inputId, outputId) {\n",
              "  const steps = uploadFilesStep(inputId, outputId);\n",
              "  const outputElement = document.getElementById(outputId);\n",
              "  // Cache steps on the outputElement to make it available for the next call\n",
              "  // to uploadFilesContinue from Python.\n",
              "  outputElement.steps = steps;\n",
              "\n",
              "  return _uploadFilesContinue(outputId);\n",
              "}\n",
              "\n",
              "// This is roughly an async generator (not supported in the browser yet),\n",
              "// where there are multiple asynchronous steps and the Python side is going\n",
              "// to poll for completion of each step.\n",
              "// This uses a Promise to block the python side on completion of each step,\n",
              "// then passes the result of the previous step as the input to the next step.\n",
              "function _uploadFilesContinue(outputId) {\n",
              "  const outputElement = document.getElementById(outputId);\n",
              "  const steps = outputElement.steps;\n",
              "\n",
              "  const next = steps.next(outputElement.lastPromiseValue);\n",
              "  return Promise.resolve(next.value.promise).then((value) => {\n",
              "    // Cache the last promise value to make it available to the next\n",
              "    // step of the generator.\n",
              "    outputElement.lastPromiseValue = value;\n",
              "    return next.value.response;\n",
              "  });\n",
              "}\n",
              "\n",
              "/**\n",
              " * Generator function which is called between each async step of the upload\n",
              " * process.\n",
              " * @param {string} inputId Element ID of the input file picker element.\n",
              " * @param {string} outputId Element ID of the output display.\n",
              " * @return {!Iterable<!Object>} Iterable of next steps.\n",
              " */\n",
              "function* uploadFilesStep(inputId, outputId) {\n",
              "  const inputElement = document.getElementById(inputId);\n",
              "  inputElement.disabled = false;\n",
              "\n",
              "  const outputElement = document.getElementById(outputId);\n",
              "  outputElement.innerHTML = '';\n",
              "\n",
              "  const pickedPromise = new Promise((resolve) => {\n",
              "    inputElement.addEventListener('change', (e) => {\n",
              "      resolve(e.target.files);\n",
              "    });\n",
              "  });\n",
              "\n",
              "  const cancel = document.createElement('button');\n",
              "  inputElement.parentElement.appendChild(cancel);\n",
              "  cancel.textContent = 'Cancel upload';\n",
              "  const cancelPromise = new Promise((resolve) => {\n",
              "    cancel.onclick = () => {\n",
              "      resolve(null);\n",
              "    };\n",
              "  });\n",
              "\n",
              "  // Wait for the user to pick the files.\n",
              "  const files = yield {\n",
              "    promise: Promise.race([pickedPromise, cancelPromise]),\n",
              "    response: {\n",
              "      action: 'starting',\n",
              "    }\n",
              "  };\n",
              "\n",
              "  cancel.remove();\n",
              "\n",
              "  // Disable the input element since further picks are not allowed.\n",
              "  inputElement.disabled = true;\n",
              "\n",
              "  if (!files) {\n",
              "    return {\n",
              "      response: {\n",
              "        action: 'complete',\n",
              "      }\n",
              "    };\n",
              "  }\n",
              "\n",
              "  for (const file of files) {\n",
              "    const li = document.createElement('li');\n",
              "    li.append(span(file.name, {fontWeight: 'bold'}));\n",
              "    li.append(span(\n",
              "        `(${file.type || 'n/a'}) - ${file.size} bytes, ` +\n",
              "        `last modified: ${\n",
              "            file.lastModifiedDate ? file.lastModifiedDate.toLocaleDateString() :\n",
              "                                    'n/a'} - `));\n",
              "    const percent = span('0% done');\n",
              "    li.appendChild(percent);\n",
              "\n",
              "    outputElement.appendChild(li);\n",
              "\n",
              "    const fileDataPromise = new Promise((resolve) => {\n",
              "      const reader = new FileReader();\n",
              "      reader.onload = (e) => {\n",
              "        resolve(e.target.result);\n",
              "      };\n",
              "      reader.readAsArrayBuffer(file);\n",
              "    });\n",
              "    // Wait for the data to be ready.\n",
              "    let fileData = yield {\n",
              "      promise: fileDataPromise,\n",
              "      response: {\n",
              "        action: 'continue',\n",
              "      }\n",
              "    };\n",
              "\n",
              "    // Use a chunked sending to avoid message size limits. See b/62115660.\n",
              "    let position = 0;\n",
              "    do {\n",
              "      const length = Math.min(fileData.byteLength - position, MAX_PAYLOAD_SIZE);\n",
              "      const chunk = new Uint8Array(fileData, position, length);\n",
              "      position += length;\n",
              "\n",
              "      const base64 = btoa(String.fromCharCode.apply(null, chunk));\n",
              "      yield {\n",
              "        response: {\n",
              "          action: 'append',\n",
              "          file: file.name,\n",
              "          data: base64,\n",
              "        },\n",
              "      };\n",
              "\n",
              "      let percentDone = fileData.byteLength === 0 ?\n",
              "          100 :\n",
              "          Math.round((position / fileData.byteLength) * 100);\n",
              "      percent.textContent = `${percentDone}% done`;\n",
              "\n",
              "    } while (position < fileData.byteLength);\n",
              "  }\n",
              "\n",
              "  // All done.\n",
              "  yield {\n",
              "    response: {\n",
              "      action: 'complete',\n",
              "    }\n",
              "  };\n",
              "}\n",
              "\n",
              "scope.google = scope.google || {};\n",
              "scope.google.colab = scope.google.colab || {};\n",
              "scope.google.colab._files = {\n",
              "  _uploadFiles,\n",
              "  _uploadFilesContinue,\n",
              "};\n",
              "})(self);\n",
              "</script> "
            ]
          },
          "metadata": {}
        },
        {
          "output_type": "stream",
          "name": "stdout",
          "text": [
            "Saving gettyimages-923543988_JPEG.rf.71aeee2d81e178da45ff3abdc4b61304.jpg to gettyimages-923543988_JPEG.rf.71aeee2d81e178da45ff3abdc4b61304.jpg\n",
            "Saving sushi-reis-kochen-rezept-1-940x330_JPEG.rf.38488aad6be5b69f7b834dddf33a92d8.jpg to sushi-reis-kochen-rezept-1-940x330_JPEG.rf.38488aad6be5b69f7b834dddf33a92d8.jpg\n",
            "Saving titelbild-wordpress-9_JPEG.rf.f0eb82a063c3a9411bf1ef28a2500228.jpg to titelbild-wordpress-9_JPEG.rf.f0eb82a063c3a9411bf1ef28a2500228.jpg\n",
            "1/1 [==============================] - 0s 44ms/step\n",
            "gettyimages-923543988_JPEG.rf.71aeee2d81e178da45ff3abdc4b61304.jpg is predicted as Nasi putih\n",
            "1/1 [==============================] - 0s 40ms/step\n",
            "sushi-reis-kochen-rezept-1-940x330_JPEG.rf.38488aad6be5b69f7b834dddf33a92d8.jpg is predicted as Nasi putih\n",
            "1/1 [==============================] - 0s 42ms/step\n",
            "titelbild-wordpress-9_JPEG.rf.f0eb82a063c3a9411bf1ef28a2500228.jpg is predicted as Kentang\n"
          ]
        }
      ]
    },
    {
      "cell_type": "code",
      "source": [
        "print(\"Ini cuma biar runtime ga ke disconnect aja\")\n",
        "print(\"/tmp/1\")"
      ],
      "metadata": {
        "colab": {
          "base_uri": "https://localhost:8080/"
        },
        "id": "kFvb7uGBvHKA",
        "outputId": "bf2d86de-a842-41f1-c26d-833fcc8d10f5"
      },
      "execution_count": 36,
      "outputs": [
        {
          "output_type": "stream",
          "name": "stdout",
          "text": [
            "Ini cuma biar runtime ga ke disconnect aja\n",
            "/tmp/1\n"
          ]
        }
      ]
    },
    {
      "cell_type": "code",
      "source": [
        "# Fetch the Keras session and save the model\n",
        "# The signature definition is defined by the input and output tensors,\n",
        "# and stored with the default serving key\n",
        "import os\n",
        "import tempfile\n",
        "\n",
        "MODEL_DIR = tempfile.gettempdir()\n",
        "version = 1\n",
        "export_path = os.path.join(MODEL_DIR, str(version))\n",
        "print('export_path = {}\\n'.format(export_path))\n",
        "\n",
        "tf.keras.models.save_model(\n",
        "    model,\n",
        "    export_path,\n",
        "    overwrite=True,\n",
        "    include_optimizer=True,\n",
        "    save_format='h5',\n",
        "    signatures=None,\n",
        "    options=None\n",
        ")\n",
        "\n",
        "print('\\nSaved model:')\n",
        "!ls -l {export_path}"
      ],
      "metadata": {
        "colab": {
          "base_uri": "https://localhost:8080/"
        },
        "id": "vtbwnsUexzq1",
        "outputId": "818f238b-9e98-485f-abee-fd3862fa4eec"
      },
      "execution_count": 32,
      "outputs": [
        {
          "output_type": "stream",
          "name": "stdout",
          "text": [
            "export_path = /tmp/1\n",
            "\n",
            "\n",
            "Saved model:\n",
            "-rw-r--r-- 1 root root 135493680 Jun 10 10:03 /tmp/1\n"
          ]
        }
      ]
    },
    {
      "cell_type": "code",
      "source": [
        "import os\n",
        "import pandas as pd\n",
        "def class_distribution_count(directory):\n",
        "    count= []\n",
        "    for path in pathlib.Path(directory).iterdir():\n",
        "        if path.is_dir():\n",
        "            count.append(len([name for name in os.listdir(path)\n",
        "                               if os.path.isfile(os.path.join(path, name))]))\n",
        "    sub_directory = [name for name in os.listdir(directory)\n",
        "                    if os.path.isdir(os.path.join(directory, name))]\n",
        "    return pd.DataFrame(list(zip(sub_directory,count)),columns =['Class', 'No. of Image'])\n",
        "df = class_distribution_count(train_dir)\n",
        "df"
      ],
      "metadata": {
        "colab": {
          "base_uri": "https://localhost:8080/",
          "height": 1000
        },
        "id": "-wXOFakdf4cp",
        "outputId": "a2a0d2e0-5ab1-4b92-e6da-f0d35f9dd1c7"
      },
      "execution_count": null,
      "outputs": [
        {
          "output_type": "execute_result",
          "data": {
            "text/plain": [
              "              Class  No. of Image\n",
              "0            Pokcoy           357\n",
              "1             Tempe           351\n",
              "2          Singkong           329\n",
              "3              Apel           350\n",
              "4       Kembang Kol           350\n",
              "5             Tauge           296\n",
              "6            Terong           350\n",
              "7          Mentimun           350\n",
              "8      Kacang tanah           350\n",
              "9            Pepaya           350\n",
              "10           Mangga           350\n",
              "11          Kentang           353\n",
              "12           Jagung           350\n",
              "13             Tahu           353\n",
              "14           Pisang           330\n",
              "15           Wortel           350\n",
              "16            Tomat           350\n",
              "17            Telur           348\n",
              "18        Dada ayam           350\n",
              "19       Nasi putih           357\n",
              "20          Alpukat           350\n",
              "21           Anggur           350\n",
              "22        Asparagus           350\n",
              "23          Brokoli           350\n",
              "24        Buah naga           350\n",
              "25       Ceker ayam           350\n",
              "26           Durian           353\n",
              "27        Jambu Air           350\n",
              "28            Jeruk           350\n",
              "29      Kacang Mete           350\n",
              "30    Kacang polong           350\n",
              "31         Kangkung           234\n",
              "32           Kelapa           350\n",
              "33        Klengkeng           350\n",
              "34       Kulit ayam            19\n",
              "35        Labu Siam           177\n",
              "36             Labu           140\n",
              "37             Leci           350\n",
              "38            Lemon           350\n",
              "39      Lobak Merah           350\n",
              "40            Melon           350\n",
              "41            Nanas           350\n",
              "42           Nangka           349\n",
              "43       Nasi merah           350\n",
              "44  Paha bawah ayam           350\n",
              "45          Paprika           350\n",
              "46             Pare           350\n",
              "47              Pir           350\n",
              "48       Pork belly           175\n",
              "49         Rambutan           350\n",
              "50           Salmon           350\n",
              "51       Sayap Ayam           244\n",
              "52         Semangka           350\n",
              "53         Stroberi           350\n",
              "54              Ubi           353"
            ],
            "text/html": [
              "\n",
              "  <div id=\"df-4520dc62-acbe-44ce-992d-bab8ee94171f\">\n",
              "    <div class=\"colab-df-container\">\n",
              "      <div>\n",
              "<style scoped>\n",
              "    .dataframe tbody tr th:only-of-type {\n",
              "        vertical-align: middle;\n",
              "    }\n",
              "\n",
              "    .dataframe tbody tr th {\n",
              "        vertical-align: top;\n",
              "    }\n",
              "\n",
              "    .dataframe thead th {\n",
              "        text-align: right;\n",
              "    }\n",
              "</style>\n",
              "<table border=\"1\" class=\"dataframe\">\n",
              "  <thead>\n",
              "    <tr style=\"text-align: right;\">\n",
              "      <th></th>\n",
              "      <th>Class</th>\n",
              "      <th>No. of Image</th>\n",
              "    </tr>\n",
              "  </thead>\n",
              "  <tbody>\n",
              "    <tr>\n",
              "      <th>0</th>\n",
              "      <td>Pokcoy</td>\n",
              "      <td>357</td>\n",
              "    </tr>\n",
              "    <tr>\n",
              "      <th>1</th>\n",
              "      <td>Tempe</td>\n",
              "      <td>351</td>\n",
              "    </tr>\n",
              "    <tr>\n",
              "      <th>2</th>\n",
              "      <td>Singkong</td>\n",
              "      <td>329</td>\n",
              "    </tr>\n",
              "    <tr>\n",
              "      <th>3</th>\n",
              "      <td>Apel</td>\n",
              "      <td>350</td>\n",
              "    </tr>\n",
              "    <tr>\n",
              "      <th>4</th>\n",
              "      <td>Kembang Kol</td>\n",
              "      <td>350</td>\n",
              "    </tr>\n",
              "    <tr>\n",
              "      <th>5</th>\n",
              "      <td>Tauge</td>\n",
              "      <td>296</td>\n",
              "    </tr>\n",
              "    <tr>\n",
              "      <th>6</th>\n",
              "      <td>Terong</td>\n",
              "      <td>350</td>\n",
              "    </tr>\n",
              "    <tr>\n",
              "      <th>7</th>\n",
              "      <td>Mentimun</td>\n",
              "      <td>350</td>\n",
              "    </tr>\n",
              "    <tr>\n",
              "      <th>8</th>\n",
              "      <td>Kacang tanah</td>\n",
              "      <td>350</td>\n",
              "    </tr>\n",
              "    <tr>\n",
              "      <th>9</th>\n",
              "      <td>Pepaya</td>\n",
              "      <td>350</td>\n",
              "    </tr>\n",
              "    <tr>\n",
              "      <th>10</th>\n",
              "      <td>Mangga</td>\n",
              "      <td>350</td>\n",
              "    </tr>\n",
              "    <tr>\n",
              "      <th>11</th>\n",
              "      <td>Kentang</td>\n",
              "      <td>353</td>\n",
              "    </tr>\n",
              "    <tr>\n",
              "      <th>12</th>\n",
              "      <td>Jagung</td>\n",
              "      <td>350</td>\n",
              "    </tr>\n",
              "    <tr>\n",
              "      <th>13</th>\n",
              "      <td>Tahu</td>\n",
              "      <td>353</td>\n",
              "    </tr>\n",
              "    <tr>\n",
              "      <th>14</th>\n",
              "      <td>Pisang</td>\n",
              "      <td>330</td>\n",
              "    </tr>\n",
              "    <tr>\n",
              "      <th>15</th>\n",
              "      <td>Wortel</td>\n",
              "      <td>350</td>\n",
              "    </tr>\n",
              "    <tr>\n",
              "      <th>16</th>\n",
              "      <td>Tomat</td>\n",
              "      <td>350</td>\n",
              "    </tr>\n",
              "    <tr>\n",
              "      <th>17</th>\n",
              "      <td>Telur</td>\n",
              "      <td>348</td>\n",
              "    </tr>\n",
              "    <tr>\n",
              "      <th>18</th>\n",
              "      <td>Dada ayam</td>\n",
              "      <td>350</td>\n",
              "    </tr>\n",
              "    <tr>\n",
              "      <th>19</th>\n",
              "      <td>Nasi putih</td>\n",
              "      <td>357</td>\n",
              "    </tr>\n",
              "    <tr>\n",
              "      <th>20</th>\n",
              "      <td>Alpukat</td>\n",
              "      <td>350</td>\n",
              "    </tr>\n",
              "    <tr>\n",
              "      <th>21</th>\n",
              "      <td>Anggur</td>\n",
              "      <td>350</td>\n",
              "    </tr>\n",
              "    <tr>\n",
              "      <th>22</th>\n",
              "      <td>Asparagus</td>\n",
              "      <td>350</td>\n",
              "    </tr>\n",
              "    <tr>\n",
              "      <th>23</th>\n",
              "      <td>Brokoli</td>\n",
              "      <td>350</td>\n",
              "    </tr>\n",
              "    <tr>\n",
              "      <th>24</th>\n",
              "      <td>Buah naga</td>\n",
              "      <td>350</td>\n",
              "    </tr>\n",
              "    <tr>\n",
              "      <th>25</th>\n",
              "      <td>Ceker ayam</td>\n",
              "      <td>350</td>\n",
              "    </tr>\n",
              "    <tr>\n",
              "      <th>26</th>\n",
              "      <td>Durian</td>\n",
              "      <td>353</td>\n",
              "    </tr>\n",
              "    <tr>\n",
              "      <th>27</th>\n",
              "      <td>Jambu Air</td>\n",
              "      <td>350</td>\n",
              "    </tr>\n",
              "    <tr>\n",
              "      <th>28</th>\n",
              "      <td>Jeruk</td>\n",
              "      <td>350</td>\n",
              "    </tr>\n",
              "    <tr>\n",
              "      <th>29</th>\n",
              "      <td>Kacang Mete</td>\n",
              "      <td>350</td>\n",
              "    </tr>\n",
              "    <tr>\n",
              "      <th>30</th>\n",
              "      <td>Kacang polong</td>\n",
              "      <td>350</td>\n",
              "    </tr>\n",
              "    <tr>\n",
              "      <th>31</th>\n",
              "      <td>Kangkung</td>\n",
              "      <td>234</td>\n",
              "    </tr>\n",
              "    <tr>\n",
              "      <th>32</th>\n",
              "      <td>Kelapa</td>\n",
              "      <td>350</td>\n",
              "    </tr>\n",
              "    <tr>\n",
              "      <th>33</th>\n",
              "      <td>Klengkeng</td>\n",
              "      <td>350</td>\n",
              "    </tr>\n",
              "    <tr>\n",
              "      <th>34</th>\n",
              "      <td>Kulit ayam</td>\n",
              "      <td>19</td>\n",
              "    </tr>\n",
              "    <tr>\n",
              "      <th>35</th>\n",
              "      <td>Labu Siam</td>\n",
              "      <td>177</td>\n",
              "    </tr>\n",
              "    <tr>\n",
              "      <th>36</th>\n",
              "      <td>Labu</td>\n",
              "      <td>140</td>\n",
              "    </tr>\n",
              "    <tr>\n",
              "      <th>37</th>\n",
              "      <td>Leci</td>\n",
              "      <td>350</td>\n",
              "    </tr>\n",
              "    <tr>\n",
              "      <th>38</th>\n",
              "      <td>Lemon</td>\n",
              "      <td>350</td>\n",
              "    </tr>\n",
              "    <tr>\n",
              "      <th>39</th>\n",
              "      <td>Lobak Merah</td>\n",
              "      <td>350</td>\n",
              "    </tr>\n",
              "    <tr>\n",
              "      <th>40</th>\n",
              "      <td>Melon</td>\n",
              "      <td>350</td>\n",
              "    </tr>\n",
              "    <tr>\n",
              "      <th>41</th>\n",
              "      <td>Nanas</td>\n",
              "      <td>350</td>\n",
              "    </tr>\n",
              "    <tr>\n",
              "      <th>42</th>\n",
              "      <td>Nangka</td>\n",
              "      <td>349</td>\n",
              "    </tr>\n",
              "    <tr>\n",
              "      <th>43</th>\n",
              "      <td>Nasi merah</td>\n",
              "      <td>350</td>\n",
              "    </tr>\n",
              "    <tr>\n",
              "      <th>44</th>\n",
              "      <td>Paha bawah ayam</td>\n",
              "      <td>350</td>\n",
              "    </tr>\n",
              "    <tr>\n",
              "      <th>45</th>\n",
              "      <td>Paprika</td>\n",
              "      <td>350</td>\n",
              "    </tr>\n",
              "    <tr>\n",
              "      <th>46</th>\n",
              "      <td>Pare</td>\n",
              "      <td>350</td>\n",
              "    </tr>\n",
              "    <tr>\n",
              "      <th>47</th>\n",
              "      <td>Pir</td>\n",
              "      <td>350</td>\n",
              "    </tr>\n",
              "    <tr>\n",
              "      <th>48</th>\n",
              "      <td>Pork belly</td>\n",
              "      <td>175</td>\n",
              "    </tr>\n",
              "    <tr>\n",
              "      <th>49</th>\n",
              "      <td>Rambutan</td>\n",
              "      <td>350</td>\n",
              "    </tr>\n",
              "    <tr>\n",
              "      <th>50</th>\n",
              "      <td>Salmon</td>\n",
              "      <td>350</td>\n",
              "    </tr>\n",
              "    <tr>\n",
              "      <th>51</th>\n",
              "      <td>Sayap Ayam</td>\n",
              "      <td>244</td>\n",
              "    </tr>\n",
              "    <tr>\n",
              "      <th>52</th>\n",
              "      <td>Semangka</td>\n",
              "      <td>350</td>\n",
              "    </tr>\n",
              "    <tr>\n",
              "      <th>53</th>\n",
              "      <td>Stroberi</td>\n",
              "      <td>350</td>\n",
              "    </tr>\n",
              "    <tr>\n",
              "      <th>54</th>\n",
              "      <td>Ubi</td>\n",
              "      <td>353</td>\n",
              "    </tr>\n",
              "  </tbody>\n",
              "</table>\n",
              "</div>\n",
              "      <button class=\"colab-df-convert\" onclick=\"convertToInteractive('df-4520dc62-acbe-44ce-992d-bab8ee94171f')\"\n",
              "              title=\"Convert this dataframe to an interactive table.\"\n",
              "              style=\"display:none;\">\n",
              "        \n",
              "  <svg xmlns=\"http://www.w3.org/2000/svg\" height=\"24px\"viewBox=\"0 0 24 24\"\n",
              "       width=\"24px\">\n",
              "    <path d=\"M0 0h24v24H0V0z\" fill=\"none\"/>\n",
              "    <path d=\"M18.56 5.44l.94 2.06.94-2.06 2.06-.94-2.06-.94-.94-2.06-.94 2.06-2.06.94zm-11 1L8.5 8.5l.94-2.06 2.06-.94-2.06-.94L8.5 2.5l-.94 2.06-2.06.94zm10 10l.94 2.06.94-2.06 2.06-.94-2.06-.94-.94-2.06-.94 2.06-2.06.94z\"/><path d=\"M17.41 7.96l-1.37-1.37c-.4-.4-.92-.59-1.43-.59-.52 0-1.04.2-1.43.59L10.3 9.45l-7.72 7.72c-.78.78-.78 2.05 0 2.83L4 21.41c.39.39.9.59 1.41.59.51 0 1.02-.2 1.41-.59l7.78-7.78 2.81-2.81c.8-.78.8-2.07 0-2.86zM5.41 20L4 18.59l7.72-7.72 1.47 1.35L5.41 20z\"/>\n",
              "  </svg>\n",
              "      </button>\n",
              "      \n",
              "  <style>\n",
              "    .colab-df-container {\n",
              "      display:flex;\n",
              "      flex-wrap:wrap;\n",
              "      gap: 12px;\n",
              "    }\n",
              "\n",
              "    .colab-df-convert {\n",
              "      background-color: #E8F0FE;\n",
              "      border: none;\n",
              "      border-radius: 50%;\n",
              "      cursor: pointer;\n",
              "      display: none;\n",
              "      fill: #1967D2;\n",
              "      height: 32px;\n",
              "      padding: 0 0 0 0;\n",
              "      width: 32px;\n",
              "    }\n",
              "\n",
              "    .colab-df-convert:hover {\n",
              "      background-color: #E2EBFA;\n",
              "      box-shadow: 0px 1px 2px rgba(60, 64, 67, 0.3), 0px 1px 3px 1px rgba(60, 64, 67, 0.15);\n",
              "      fill: #174EA6;\n",
              "    }\n",
              "\n",
              "    [theme=dark] .colab-df-convert {\n",
              "      background-color: #3B4455;\n",
              "      fill: #D2E3FC;\n",
              "    }\n",
              "\n",
              "    [theme=dark] .colab-df-convert:hover {\n",
              "      background-color: #434B5C;\n",
              "      box-shadow: 0px 1px 3px 1px rgba(0, 0, 0, 0.15);\n",
              "      filter: drop-shadow(0px 1px 2px rgba(0, 0, 0, 0.3));\n",
              "      fill: #FFFFFF;\n",
              "    }\n",
              "  </style>\n",
              "\n",
              "      <script>\n",
              "        const buttonEl =\n",
              "          document.querySelector('#df-4520dc62-acbe-44ce-992d-bab8ee94171f button.colab-df-convert');\n",
              "        buttonEl.style.display =\n",
              "          google.colab.kernel.accessAllowed ? 'block' : 'none';\n",
              "\n",
              "        async function convertToInteractive(key) {\n",
              "          const element = document.querySelector('#df-4520dc62-acbe-44ce-992d-bab8ee94171f');\n",
              "          const dataTable =\n",
              "            await google.colab.kernel.invokeFunction('convertToInteractive',\n",
              "                                                     [key], {});\n",
              "          if (!dataTable) return;\n",
              "\n",
              "          const docLinkHtml = 'Like what you see? Visit the ' +\n",
              "            '<a target=\"_blank\" href=https://colab.research.google.com/notebooks/data_table.ipynb>data table notebook</a>'\n",
              "            + ' to learn more about interactive tables.';\n",
              "          element.innerHTML = '';\n",
              "          dataTable['output_type'] = 'display_data';\n",
              "          await google.colab.output.renderOutput(dataTable, element);\n",
              "          const docLink = document.createElement('div');\n",
              "          docLink.innerHTML = docLinkHtml;\n",
              "          element.appendChild(docLink);\n",
              "        }\n",
              "      </script>\n",
              "    </div>\n",
              "  </div>\n",
              "  "
            ]
          },
          "metadata": {},
          "execution_count": 19
        }
      ]
    },
    {
      "cell_type": "markdown",
      "source": [
        "Good accuracy but wrong prediction -> might be because imbalanced dataset https://stackoverflow.com/questions/58474361/good-accuracy-but-wrong-prediction"
      ],
      "metadata": {
        "id": "NHkTD3nRi2at"
      }
    }
  ]
}